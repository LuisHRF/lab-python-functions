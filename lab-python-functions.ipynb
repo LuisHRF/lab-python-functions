{
 "cells": [
  {
   "cell_type": "markdown",
   "id": "25d7736c-ba17-4aff-b6bb-66eba20fbf4e",
   "metadata": {},
   "source": [
    "# Lab | Functions"
   ]
  },
  {
   "cell_type": "markdown",
   "id": "0c581062-8967-4d93-b06e-62833222f930",
   "metadata": {
    "tags": []
   },
   "source": [
    "## Exercise: Managing Customer Orders with Functions\n",
    "\n",
    "In the previous exercise, you improved the code for managing customer orders by using loops and flow control. Now, let's take it a step further and refactor the code by introducing functions.\n",
    "\n",
    "Follow the steps below to complete the exercise:\n",
    "\n",
    "1. Define a function named `initialize_inventory` that takes `products` as a parameter. Inside the function, implement the code for initializing the inventory dictionary using a loop and user input.\n",
    "\n",
    "2. Define a function named `get_customer_orders` that takes no parameters. Inside the function, implement the code for prompting the user to enter the product names using a loop. The function should return the `customer_orders` set.\n",
    "\n",
    "3. Define a function named `update_inventory` that takes `customer_orders` and `inventory` as parameters. Inside the function, implement the code for updating the inventory dictionary based on the customer orders.\n",
    "\n",
    "4. Define a function named `calculate_order_statistics` that takes `customer_orders` and `products` as parameters. Inside the function, implement the code for calculating the order statistics (total products ordered, and percentage of unique products ordered). The function should return these values.\n",
    "\n",
    "5. Define a function named `print_order_statistics` that takes `order_statistics` as a parameter. Inside the function, implement the code for printing the order statistics.\n",
    "\n",
    "6. Define a function named `print_updated_inventory` that takes `inventory` as a parameter. Inside the function, implement the code for printing the updated inventory.\n",
    "\n",
    "7. Call the functions in the appropriate sequence to execute the program and manage customer orders.\n",
    "\n",
    "Hints for functions:\n",
    "\n",
    "- Consider the input parameters required for each function and their return values.\n",
    "- Utilize function parameters and return values to transfer data between functions.\n",
    "- Test your functions individually to ensure they work correctly.\n"
   ]
  },
  {
   "cell_type": "code",
   "execution_count": 4,
   "id": "3b0777d8",
   "metadata": {},
   "outputs": [],
   "source": [
    "# First step\n",
    "\n",
    "products = [\"t-shirt\", \"mug\", \"hat\", \"book\", \"keychain\"]"
   ]
  },
  {
   "cell_type": "code",
   "execution_count": 14,
   "id": "b0cc0eec",
   "metadata": {},
   "outputs": [],
   "source": [
    "# Cell for create functions\n",
    "\n",
    "def initialize_inventory(products): #This functions ask the user to write the quantity for each product\n",
    "    inventory = {}\n",
    "    for product in products:\n",
    "        quantity = int(input(f\"Write the quantity for {product}: \"))\n",
    "        inventory[product] = quantity\n",
    "    print(f\"Original inventory: {inventory}\")\n",
    "    return inventory\n",
    "\n",
    "def get_customer_orders(): # This one ask the user if he/she wants to add some item to the order\n",
    "    customer_orders = set()\n",
    "\n",
    "    while True:\n",
    "        product_order = input(\"Please, select a product: \")\n",
    "        customer_orders.add(product_order)\n",
    "\n",
    "        add_another_product = input(\"Do you wanto to add another product (yes/no)?\")\n",
    "        if add_another_product.lower() != \"yes\":\n",
    "            break\n",
    "    print(f\"Customer order: {customer_orders}\")\n",
    "    return customer_orders\n",
    "\n",
    "def udapte_inventory(customer_orders, inventory): # This one update the inventory\n",
    "    for product in customer_orders:\n",
    "        if product in inventory and inventory[product] > 0:\n",
    "            inventory[product] -= 1\n",
    "        else:\n",
    "            print(f\"Sorry, we don't have {product} in our inventory.\")\n",
    "    print(f\"Updated inventory after order: {inventory}\")\n",
    "    return inventory\n",
    "\n",
    "def calculate_order_statics(customer_orders, products): # This one calculate the order_status\n",
    "    total_ordered_products = len(customer_orders)\n",
    "    percentage_ordered_products = (total_ordered_products / len(products)) * 100\n",
    "    order_status = (total_ordered_products, percentage_ordered_products)\n",
    "    return order_status\n",
    "\n",
    "def print_order_statics(order_status): # This one print the order_status\n",
    "    print(\"Order Statistics:\")\n",
    "    print(f\"Total ordered products: {order_status[0]}\")\n",
    "    print(f\"Percentage of ordered products: {order_status[1]}%\")"
   ]
  },
  {
   "cell_type": "code",
   "execution_count": 15,
   "id": "082e0212",
   "metadata": {},
   "outputs": [
    {
     "name": "stdout",
     "output_type": "stream",
     "text": [
      "Original inventory: {'t-shirt': 8, 'mug': 9, 'hat': 5, 'book': 7, 'keychain': 5}\n",
      "Customer order: {'keychain', 'mug', 'hat'}\n",
      "Updated inventory after order: {'t-shirt': 8, 'mug': 8, 'hat': 4, 'book': 7, 'keychain': 4}\n",
      "Order Statistics:\n",
      "Total ordered products: 3\n",
      "Percentage of ordered products: 60.0%\n"
     ]
    }
   ],
   "source": [
    "# Cell for run functions\n",
    "\n",
    "inventory = initialize_inventory(products)\n",
    "customer_orders = get_customer_orders()\n",
    "inventory = udapte_inventory(customer_orders, inventory)\n",
    "order_status = calculate_order_statics(customer_orders, products)\n",
    "print_order_statics(order_status)"
   ]
  },
  {
   "cell_type": "code",
   "execution_count": null,
   "id": "813714ef",
   "metadata": {},
   "outputs": [],
   "source": []
  }
 ],
 "metadata": {
  "kernelspec": {
   "display_name": "Python 3 (ipykernel)",
   "language": "python",
   "name": "python3"
  },
  "language_info": {
   "codemirror_mode": {
    "name": "ipython",
    "version": 3
   },
   "file_extension": ".py",
   "mimetype": "text/x-python",
   "name": "python",
   "nbconvert_exporter": "python",
   "pygments_lexer": "ipython3",
   "version": "3.12.4"
  }
 },
 "nbformat": 4,
 "nbformat_minor": 5
}
